{
 "cells": [
  {
   "cell_type": "code",
   "execution_count": 1,
   "metadata": {},
   "outputs": [
    {
     "name": "stdout",
     "output_type": "stream",
     "text": [
      "hello world\n"
     ]
    }
   ],
   "source": [
    "print('hello world')"
   ]
  },
  {
   "cell_type": "code",
   "execution_count": 15,
   "metadata": {},
   "outputs": [
    {
     "name": "stdout",
     "output_type": "stream",
     "text": [
      "квадрат числа 1 равен 1\n",
      "квадрат числа 2 равен 4\n",
      "квадрат числа 3 равен 9\n",
      "квадрат числа 4 равен 16\n",
      "квадрат числа 5 равен 25\n",
      "квадрат числа 6 равен 36\n",
      "квадрат числа 7 равен 49\n",
      "квадрат числа 8 равен 64\n",
      "квадрат числа 9 равен 81\n",
      "квадрат числа 10 равен 100\n"
     ]
    }
   ],
   "source": [
    "for n in range(1,11):\n",
    "    print('квадрат числа',n,'равен',n*n)"
   ]
  },
  {
   "cell_type": "code",
   "execution_count": 47,
   "metadata": {},
   "outputs": [
    {
     "name": "stdout",
     "output_type": "stream",
     "text": [
      "квадрат числа 1 равен 1\n",
      "квадрат числа 2 равен 134217728\n",
      "квадрат числа 3 равен 7625597484987\n",
      "квадрат числа 4 равен 18014398509481984\n",
      "квадрат числа 5 равен 7450580596923828125\n",
      "квадрат числа 6 равен 1023490369077469249536\n",
      "квадрат числа 7 равен 65712362363534280139543\n",
      "квадрат числа 8 равен 2417851639229258349412352\n",
      "квадрат числа 9 равен 58149737003040059690390169\n",
      "квадрат числа 10 равен 1000000000000000000000000000\n"
     ]
    }
   ],
   "source": [
    "for n in range(1,11):\n",
    "    print('квадрат числа',n,'равен',n**27)"
   ]
  },
  {
   "cell_type": "code",
   "execution_count": 53,
   "metadata": {},
   "outputs": [
    {
     "name": "stdout",
     "output_type": "stream",
     "text": [
      "pervoe chislo 222\n",
      "vtoroe chislo 223\n",
      "tretie chislo 224\n",
      "srednee 223.0\n"
     ]
    }
   ],
   "source": [
    "def srednee(n1,n2,n3):\n",
    "    print('pervoe chislo', n1)\n",
    "    print('vtoroe chislo', n2)\n",
    "    print('tretie chislo', n3)\n",
    "    a=(n1+n2+n3)/3.0\n",
    "    print('srednee', a)\n",
    "srednee(222,223,224)"
   ]
  },
  {
   "cell_type": "code",
   "execution_count": 69,
   "metadata": {},
   "outputs": [
    {
     "name": "stdout",
     "output_type": "stream",
     "text": [
      "[[0. 0.]\n",
      " [0. 0.]\n",
      " [4. 1.]]\n"
     ]
    },
    {
     "data": {
      "image/png": "[encoded data removed]",
      "text/plain": [
       "<Figure size 432x288 with 1 Axes>"
      ]
     },
     "metadata": {
      "needs_background": "light"
     },
     "output_type": "display_data"
    }
   ],
   "source": [
    "import numpy\n",
    "import matplotlib.pyplot\n",
    "\n",
    "\n",
    "\n",
    "a=numpy.zeros([3,2])\n",
    "\n",
    "a[2,0]=4\n",
    "a[2,1]=1\n",
    "matplotlib.pyplot.imshow(a,interpolation='nearest')\n",
    "print(a)"
   ]
  },
  {
   "cell_type": "code",
   "execution_count": 74,
   "metadata": {},
   "outputs": [
    {
     "name": "stdout",
     "output_type": "stream",
     "text": [
      "ГАУ\n",
      "ГАУ\n",
      "ГАУ\n",
      "ГАУ\n"
     ]
    }
   ],
   "source": [
    "import numpy\n",
    "import matplotlib.pyplot\n",
    "class Dog():\n",
    "    def bark(self):\n",
    "        print('ГАУ')\n",
    "tuzik = Dog()\n",
    "tuzik.bark()\n",
    "oleg = Dog()\n",
    "oleg.bark()\n",
    "bobik = Dog()\n",
    "bobik.bark()\n",
    "sharik = Dog()\n",
    "sharik.bark()"
   ]
  },
  {
   "cell_type": "code",
   "execution_count": 46,
   "metadata": {},
   "outputs": [
    {
     "ename": "ValueError",
     "evalue": "shapes (100,784) and (99,1) not aligned: 784 (dim 1) != 99 (dim 0)",
     "output_type": "error",
     "traceback": [
      "\u001b[1;31m---------------------------------------------------------------------------\u001b[0m",
      "\u001b[1;31mValueError\u001b[0m                                Traceback (most recent call last)",
      "\u001b[1;32m<ipython-input-46-b30f5b07eaab>\u001b[0m in \u001b[0;36m<module>\u001b[1;34m\u001b[0m\n\u001b[0;32m    101\u001b[0m     \u001b[1;31m#all_values[0] - целевое маркерное значение для данной записи\u001b[0m\u001b[1;33m\u001b[0m\u001b[1;33m\u001b[0m\u001b[1;33m\u001b[0m\u001b[0m\n\u001b[0;32m    102\u001b[0m     \u001b[0mtargets\u001b[0m\u001b[1;33m[\u001b[0m\u001b[0mint\u001b[0m\u001b[1;33m(\u001b[0m\u001b[0mall_values\u001b[0m\u001b[1;33m[\u001b[0m\u001b[1;36m0\u001b[0m\u001b[1;33m]\u001b[0m\u001b[1;33m)\u001b[0m\u001b[1;33m]\u001b[0m\u001b[1;33m=\u001b[0m\u001b[1;36m0.99\u001b[0m\u001b[1;33m\u001b[0m\u001b[1;33m\u001b[0m\u001b[0m\n\u001b[1;32m--> 103\u001b[1;33m     \u001b[0mn\u001b[0m\u001b[1;33m.\u001b[0m\u001b[0mtrain\u001b[0m\u001b[1;33m(\u001b[0m\u001b[0minputs\u001b[0m\u001b[1;33m,\u001b[0m\u001b[0mtargets\u001b[0m\u001b[1;33m)\u001b[0m\u001b[1;33m\u001b[0m\u001b[1;33m\u001b[0m\u001b[0m\n\u001b[0m",
      "\u001b[1;32m<ipython-input-46-b30f5b07eaab>\u001b[0m in \u001b[0;36mtrain\u001b[1;34m(self, inputs_list, targets_list)\u001b[0m\n\u001b[0;32m     32\u001b[0m \u001b[1;33m\u001b[0m\u001b[0m\n\u001b[0;32m     33\u001b[0m         \u001b[1;31m#Рассчитать входящие сигналы для скрытого слоя\u001b[0m\u001b[1;33m\u001b[0m\u001b[1;33m\u001b[0m\u001b[1;33m\u001b[0m\u001b[0m\n\u001b[1;32m---> 34\u001b[1;33m         \u001b[0mhidden_inputs\u001b[0m \u001b[1;33m=\u001b[0m \u001b[0mnumpy\u001b[0m\u001b[1;33m.\u001b[0m\u001b[0mdot\u001b[0m\u001b[1;33m(\u001b[0m\u001b[0mself\u001b[0m\u001b[1;33m.\u001b[0m\u001b[0mwih\u001b[0m\u001b[1;33m,\u001b[0m\u001b[0minputs\u001b[0m\u001b[1;33m)\u001b[0m\u001b[1;33m\u001b[0m\u001b[1;33m\u001b[0m\u001b[0m\n\u001b[0m\u001b[0;32m     35\u001b[0m         \u001b[1;31m#Рассчитать исходящие сигналы для скрытого слоя\u001b[0m\u001b[1;33m\u001b[0m\u001b[1;33m\u001b[0m\u001b[1;33m\u001b[0m\u001b[0m\n\u001b[0;32m     36\u001b[0m         \u001b[0mhidden_outputs\u001b[0m \u001b[1;33m=\u001b[0m \u001b[0mself\u001b[0m\u001b[1;33m.\u001b[0m\u001b[0mactivation_function\u001b[0m\u001b[1;33m(\u001b[0m\u001b[0mhidden_inputs\u001b[0m\u001b[1;33m)\u001b[0m\u001b[1;33m\u001b[0m\u001b[1;33m\u001b[0m\u001b[0m\n",
      "\u001b[1;32m<__array_function__ internals>\u001b[0m in \u001b[0;36mdot\u001b[1;34m(*args, **kwargs)\u001b[0m\n",
      "\u001b[1;31mValueError\u001b[0m: shapes (100,784) and (99,1) not aligned: 784 (dim 1) != 99 (dim 0)"
     ]
    }
   ],
   "source": [
    "import numpy\n",
    "import matplotlib.pyplot\n",
    "import scipy.special\n",
    "\n",
    "\n",
    "class neuralNetwork:\n",
    "    # инициализировать нейронную сеть\n",
    "    def __init__(self, inputnodes, hidennodes, outputnodes, learningrate):\n",
    "        # задать кол-во узлов во входном, скрытом и выходном слое\n",
    "        self.inodes = inputnodes\n",
    "        self.hnodes = hidennodes\n",
    "        self.onodes = outputnodes\n",
    "\n",
    "        # Матрицы весовых коэффициентов связей wih (между входным и скрытым слоями) и who (между скрытым и выходным слоями)\n",
    "        # Весовые коэффициенты связей между узлом i и узлом j следующего слоя обозначены как w_i_j:\n",
    "        # w11 w21\n",
    "        # w12 w22 и т.д.\n",
    "\n",
    "        self.wih = numpy.random.normal(0.0, pow(self.hnodes, -0.5), (self.hnodes, self.inodes))\n",
    "        self.who = numpy.random.normal(0.0, pow(self.onodes, -0.5), (self.onodes, self.hnodes))\n",
    "\n",
    "        # коэффициент обучения\n",
    "        self.lr = learningrate\n",
    "        # Использование сишмоиды в качестве функции активации\n",
    "        self.activation_function = lambda x: scipy.special.expit(x)\n",
    "\n",
    "    # Тренировка нейронной сети\n",
    "    def train(self, inputs_list, targets_list):\n",
    "        # Преобразовать список входных значений в двумерный массив\n",
    "        inputs = numpy.array(inputs_list, ndmin=2).T\n",
    "        targets = numpy.array(targets_list, ndmin=2).T\n",
    "\n",
    "        # Рассчитать входящие сигналы для скрытого слоя\n",
    "        hidden_inputs = numpy.dot(self.wih, inputs)\n",
    "        # Рассчитать исходящие сигналы для скрытого слоя\n",
    "        hidden_outputs = self.activation_function(hidden_inputs)\n",
    "\n",
    "        # Рассчитать входящие сигналы для выходного слоя\n",
    "        final_inputs = numpy.dot(self.who, hidden_outputs)\n",
    "        # Рассчитать исходящие сигналы для выходного слоя\n",
    "        final_outputs = self.activation_function(final_inputs)\n",
    "\n",
    "        # Ошибки выходного слоя - (целевое значение - фактическое)\n",
    "        output_errors = targets - final_outputs\n",
    "        # ошибки скрытого слоя - это ошибки output_errors,\n",
    "        # распределение пропорционально весовым коэффициентам связей\n",
    "        # и рекомбинированные на скрытых узлах\n",
    "        hidden_errors = numpy.dot(self.who.T, output_errors)\n",
    "        # обновить весовые коэффициенты для связей между скрытым и выходным слоями\n",
    "        self.who += self.lr * numpy.dot((output_errors * final_outputs * (1.0 - final_outputs)),\n",
    "                                        numpy.transpose(hidden_outputs))\n",
    "        # Обновить весовые коэффициенты для связей между входным и скрытым слоями\n",
    "        self.wih += self.lr * numpy.dot((hidden_errors * hidden_outputs * (1.0 - hidden_outputs)),\n",
    "                                        numpy.transpose(inputs))\n",
    "\n",
    "    # Опрос нейронной сети\n",
    "    def query(self, inputs_list):\n",
    "        # Преобразовать список входных значений в двумерный массив\n",
    "        inputs = numpy.array(inputs_list, ndmin=2).T\n",
    "\n",
    "        # Рассчитать входящие сигналы для скрытого слоя\n",
    "        hidden_inputs = numpy.dot(self.wih, inputs)\n",
    "        # Рассчитать исходящие\n",
    "        hidden_outputs = self.activation_function(hidden_inputs)\n",
    "\n",
    "        # Рассчитать входящие сигналы для выходного слоя\n",
    "        final_inputs = numpy.dot(self.who, hidden_outputs)\n",
    "        # Рассчитать исходящие сигналы для выходного слоя\n",
    "        final_outputs = self.activation_function(final_inputs)\n",
    "\n",
    "        return final_outputs\n",
    "\n",
    "\n",
    "# кол-во входных, скрытых и выходных узлов\n",
    "input_nodes = 784\n",
    "hiden_nodes = 100\n",
    "output_nodes = 10\n",
    "\n",
    "# коэф обучения\n",
    "learning_rate = 0.3\n",
    "\n",
    "# создать экземпляр нейронной сети\n",
    "n = neuralNetwork(input_nodes, hiden_nodes, output_nodes, learning_rate)\n",
    "\n",
    "training_data_file = open(\"C:/Users/user1/Desktop/Mnist_dataset/mnist_train.csv\", 'r')\n",
    "training_data_list = training_data_file.readlines()\n",
    "training_data_file.close()\n",
    "\n",
    "# Тренировка нейронной сети\n",
    "\n",
    "# Перебрать все записи в тренировочном наборе данных\n",
    "for record in training_data_list[1: 100]:\n",
    "    # получить список значений, используя символы запятой (',')\n",
    "    # в качестве разделителей\n",
    "    all_values = record.split(',')\n",
    "    # Масштабировать и сместить входные значения\n",
    "    inputs = (numpy.asfarray(all_values[1:]) / 255.0 * 0.99) + 0.01\n",
    "    # создать целевые выходные значения (все равны 0,01, за исключением желаемого маркерного значения, равного 0,99)\n",
    "    targets = numpy.zeros(output_nodes) + 0.01\n",
    "\n",
    "    # all_values[0] - целевое маркерное значение для данной записи\n",
    "    targets[int(all_values[0])] = 0.99\n",
    "    n.train(inputs, targets)"
   ]
  },
  {
   "cell_type": "code",
   "execution_count": null,
   "metadata": {},
   "outputs": [],
   "source": []
  }
 ],
 "metadata": {
  "kernelspec": {
   "display_name": "Python 3",
   "language": "python",
   "name": "python3"
  },
  "language_info": {
   "codemirror_mode": {
    "name": "ipython",
    "version": 3
   },
   "file_extension": ".py",
   "mimetype": "text/x-python",
   "name": "python",
   "nbconvert_exporter": "python",
   "pygments_lexer": "ipython3",
   "version": "3.8.5"
  }
 },
 "nbformat": 4,
 "nbformat_minor": 4
}
